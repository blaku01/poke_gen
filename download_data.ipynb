{
 "cells": [
  {
   "cell_type": "code",
   "execution_count": null,
   "id": "0bf20f7b-047e-4f9b-be8d-c5947181d2e1",
   "metadata": {},
   "outputs": [],
   "source": [
    "site_gen_urls = {\n",
    "    \"gen_1\": \"https://projectpokemon.org/home/docs/spriteindex_148/3d-models-generation-1-pok%C3%A9mon-r90/\",\n",
    "    \"gen_2\": \"https://projectpokemon.org/home/docs/spriteindex_148/3d-models-generation-2-pok%C3%A9mon-r91/\",\n",
    "    \"gen_3\": \"https://projectpokemon.org/home/docs/spriteindex_148/3d-models-generation-3-pok%C3%A9mon-r92/\",\n",
    "    \"gen_4\": \"https://projectpokemon.org/home/docs/spriteindex_148/3d-models-generation-4-pok%C3%A9mon-r93/\",\n",
    "    \"gen_5\": \"https://projectpokemon.org/home/docs/spriteindex_148/3d-models-generation-5-pok%C3%A9mon-r94/\",\n",
    "    \"gen_6\": \"https://projectpokemon.org/home/docs/spriteindex_148/3d-models-generation-6-pok%C3%A9mon-r95/\",\n",
    "    \"gen_7\": \"https://projectpokemon.org/home/docs/spriteindex_148/3d-models-generation-7-pok%C3%A9mon-r96/\",\n",
    "}\n",
    "\n",
    "save_url = r\"C:\\repos\\poke_gen\\data\\scraped_images\""
   ]
  },
  {
   "cell_type": "code",
   "execution_count": null,
   "id": "76a53878-9662-4872-987b-498ec682a6da",
   "metadata": {},
   "outputs": [],
   "source": [
    "import requests\n",
    "from bs4 import BeautifulSoup\n",
    "\n",
    "\n",
    "def scrape_images_from_table(website_url):\n",
    "    image_srcs = {\"front\": [], \"back\": []}\n",
    "    table_type = [\"front\", \"back\"]\n",
    "    try:\n",
    "        # Send a GET request to the website\n",
    "        response = requests.get(website_url)\n",
    "\n",
    "        # Check if the request was successful (status code 200)\n",
    "        if response.status_code == 200:\n",
    "            # Parse the HTML content of the page\n",
    "            soup = BeautifulSoup(response.content, \"html.parser\")\n",
    "\n",
    "            # Find the table element(s)\n",
    "            tables = soup.find_all(\"table\")\n",
    "\n",
    "            # Iterate through each table\n",
    "            for table_type, table in zip(table_type, tables):\n",
    "                # Find the tbody element(s)\n",
    "                tbodies = table.find_all(\"tbody\")\n",
    "\n",
    "                # Iterate through each tbody\n",
    "                for tbody in tbodies:\n",
    "                    # Find all tr elements within the tbody\n",
    "                    rows = tbody.find_all(\"tr\")\n",
    "\n",
    "                    # Iterate through each row\n",
    "                    for row in rows:\n",
    "                        # Find all td elements within the row\n",
    "                        cells = row.find_all(\"td\")\n",
    "\n",
    "                        # Iterate through each cell\n",
    "                        for cell in cells:\n",
    "                            # Find all 'a' elements within the cell\n",
    "                            images = cell.find_all(\"img\")\n",
    "\n",
    "                            # Iterate through each 'img' element and get the 'src' attribute\n",
    "                            for img in images:\n",
    "                                img_src = img.get(\"src\")\n",
    "                                if img_src:\n",
    "                                    image_srcs[table_type].append(img_src)\n",
    "\n",
    "    except requests.exceptions.RequestException as e:\n",
    "        print(f\"Error: {e}\")\n",
    "\n",
    "    return image_srcs"
   ]
  },
  {
   "cell_type": "code",
   "execution_count": null,
   "id": "c21deb26-fd08-40ab-a401-4a9f4b7b4689",
   "metadata": {},
   "outputs": [],
   "source": [
    "url_dict = {}\n",
    "for gen, url in site_gen_urls.items():\n",
    "    urls = scrape_images_from_table(url)\n",
    "    url_dict[gen] = urls"
   ]
  },
  {
   "cell_type": "code",
   "execution_count": null,
   "id": "1139f191-84ea-4130-a3a8-4d4ff2405358",
   "metadata": {},
   "outputs": [],
   "source": [
    "url_dict"
   ]
  },
  {
   "cell_type": "code",
   "execution_count": null,
   "id": "74e34fe8-5849-4ee7-99e9-e288f368564e",
   "metadata": {},
   "outputs": [],
   "source": [
    "images_url_list = []\n",
    "for gen_name, gen_dict in url_dict.items():\n",
    "    for type_name, link_list in gen_dict.items():\n",
    "        for item in link_list:\n",
    "            images_url_list.append(item)"
   ]
  },
  {
   "cell_type": "code",
   "execution_count": null,
   "id": "9cdf43d5-5d0b-422f-9098-608f3ae2aed0",
   "metadata": {},
   "outputs": [],
   "source": [
    "from urllib.parse import urlparse\n",
    "\n",
    "url = \"https://projectpokemon.org/images/normal-sprite/bulbasaur.gif\"\n",
    "\n",
    "# Parse the URL to extract the path\n",
    "parsed_url = urlparse(url)\n",
    "\n",
    "# Extract the path\n",
    "path = parsed_url.path\n",
    "\n",
    "print(path)"
   ]
  },
  {
   "cell_type": "code",
   "execution_count": null,
   "id": "31ff0488-3f49-4901-a811-6c58dd52f2ca",
   "metadata": {},
   "outputs": [],
   "source": [
    "image_names = []\n",
    "for gen_name, gen_dict in url_dict.items():\n",
    "    for type_name, link_list in gen_dict.items():\n",
    "        for link in link_list:\n",
    "            # Parse the URL to extract the path and remove slashes\n",
    "            path = urlparse(link).path.replace(\"/\", \"-\")\n",
    "\n",
    "            # Construct the image_name\n",
    "            image_name = f\"{gen_name}-{type_name}{path}\"\n",
    "\n",
    "            # Append the image_name to the list\n",
    "            image_names.append(image_name)"
   ]
  },
  {
   "cell_type": "code",
   "execution_count": null,
   "id": "23d73cbd-f391-4919-8313-aac5801d5c0e",
   "metadata": {},
   "outputs": [],
   "source": [
    "# Define the CSV file name\n",
    "import csv\n",
    "import random\n",
    "import time\n",
    "\n",
    "csv_filename = f\"{save_url}\\\\image_data.csv\"\n",
    "image_names = []\n",
    "# Create and write to the CSV file\n",
    "with open(csv_filename, mode=\"w\", newline=\"\") as csv_file:\n",
    "    writer = csv.writer(csv_file)\n",
    "\n",
    "    # Write the header row\n",
    "    writer.writerow([\"img_path\", \"img_gen\", \"type\"])\n",
    "\n",
    "    # Write the data rows\n",
    "    for gen_name, gen_dict in url_dict.items():\n",
    "        for type_name, link_list in gen_dict.items():\n",
    "            for link in link_list:\n",
    "                try:\n",
    "                    time.sleep(random.uniform(0.05, 0.15))\n",
    "                    response = requests.get(link)\n",
    "                    if response.status_code == 200:\n",
    "                        image_data = response.content\n",
    "                        local_image_path = f\"{save_url}\\\\{image_name}\"\n",
    "                        with open(local_image_path, \"wb\") as local_file:\n",
    "                            local_file.write(image_data)\n",
    "                    else:\n",
    "                        print(f\"Failed to retrieve the image. Status code: {response.status_code}\")\n",
    "                except requests.exceptions.RequestException as e:\n",
    "                    print(f\"Error: {e}\")\n",
    "                    pass\n",
    "\n",
    "                # Parse the URL to extract the path and remove slashes\n",
    "                path = urlparse(link).path.replace(\"/\", \"-\")\n",
    "                # Construct the image_name\n",
    "                image_name = f\"{gen_name}-{type_name}{path}\"\n",
    "\n",
    "                # Append the image_name to the list\n",
    "                writer.writerow([f\"{save_url}\\\\{image_name}\", gen_name, type_name])\n",
    "                image_names.append(image_name)"
   ]
  },
  {
   "cell_type": "code",
   "execution_count": null,
   "id": "b2900e1c-a7c1-4643-a059-9864199c9bd2",
   "metadata": {},
   "outputs": [],
   "source": []
  },
  {
   "cell_type": "code",
   "execution_count": null,
   "id": "e780fee9-fdbb-4186-bb6e-cab0ccc8d35f",
   "metadata": {},
   "outputs": [],
   "source": []
  }
 ],
 "metadata": {
  "kernelspec": {
   "display_name": "Python 3 (ipykernel)",
   "language": "python",
   "name": "python3"
  },
  "language_info": {
   "codemirror_mode": {
    "name": "ipython",
    "version": 3
   },
   "file_extension": ".py",
   "mimetype": "text/x-python",
   "name": "python",
   "nbconvert_exporter": "python",
   "pygments_lexer": "ipython3",
   "version": "3.10.12"
  }
 },
 "nbformat": 4,
 "nbformat_minor": 5
}
