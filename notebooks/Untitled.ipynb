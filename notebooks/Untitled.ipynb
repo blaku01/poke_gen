{
 "cells": [
  {
   "cell_type": "code",
   "execution_count": null,
   "id": "a12a6a94-c68c-48ca-94f3-ef4333630505",
   "metadata": {},
   "outputs": [],
   "source": [
    "import os\n",
    "\n",
    "import wandb"
   ]
  },
  {
   "cell_type": "code",
   "execution_count": null,
   "id": "63fd849d-39ce-414b-ba7a-94a142a49b39",
   "metadata": {},
   "outputs": [],
   "source": [
    "# Set your API key or configure wandb login if not already done.\n",
    "# wandb.login(api_key=\"YOUR_API_KEY\")\n",
    "\n",
    "# Specify your project name and run ID\n",
    "project_name = \"poke-gen\"\n",
    "run_id = \"k4oyr151\"\n",
    "\n",
    "# Initialize the wandb run\n",
    "wandb.init(id=run_id, project=project_name)\n",
    "\n",
    "# Define the path where you want to download the media folder\n",
    "download_path = r\"C:\\media\\poke_gen\\DCGAN\"\n",
    "\n",
    "# Ensure the download directory exists\n",
    "os.makedirs(download_path, exist_ok=True)"
   ]
  },
  {
   "cell_type": "code",
   "execution_count": null,
   "id": "cc795508-c2f6-443a-ab1a-6590ff0cae36",
   "metadata": {},
   "outputs": [],
   "source": [
    "# Initialize the wandb.Api()\n",
    "api = wandb.Api()\n",
    "\n",
    "# Get the run\n",
    "run = api.run(f\"{project_name}/{run_id}\")\n",
    "\n",
    "# Iterate over all files and download them\n",
    "for file in run.files():\n",
    "    file.download(root=download_path, replace=True, exist_ok=True)\n",
    "    print(f\"Downloaded {file.name} to {download_path}\")"
   ]
  },
  {
   "cell_type": "code",
   "execution_count": null,
   "id": "a5fa60f5-46f7-460b-af41-8d9f6d662084",
   "metadata": {},
   "outputs": [],
   "source": []
  }
 ],
 "metadata": {
  "kernelspec": {
   "display_name": "Python 3 (ipykernel)",
   "language": "python",
   "name": "python3"
  },
  "language_info": {
   "codemirror_mode": {
    "name": "ipython",
    "version": 3
   },
   "file_extension": ".py",
   "mimetype": "text/x-python",
   "name": "python",
   "nbconvert_exporter": "python",
   "pygments_lexer": "ipython3",
   "version": "3.10.12"
  }
 },
 "nbformat": 4,
 "nbformat_minor": 5
}
